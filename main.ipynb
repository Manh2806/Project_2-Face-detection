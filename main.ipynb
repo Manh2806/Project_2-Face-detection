{
 "cells": [
  {
   "cell_type": "code",
   "execution_count": 2,
   "metadata": {
    "collapsed": false
   },
   "outputs": [],
   "source": [
    "import tensorflow as tf\n",
    "import json\n",
    "import numpy as np\n",
    "from matplotlib import pyplot as plt\n",
    "import os\n",
    "import cv2\n",
    "import albumentations as alb\n",
    "from tensorflow.keras.optimizers import RMSprop\n",
    "from tensorflow.keras.models import Model\n",
    "from tensorflow.keras.layers import Input, Conv2D, Dense, GlobalMaxPooling2D, AvgPool2D, MaxPooling2D, Flatten, Dropout, MaxPool2D\n",
    "from tensorflow.keras.applications import VGG16\n",
    "from tensorflow.keras.models import Sequential\n",
    "import random\n",
    "from sklearn.model_selection import train_test_split\n"
   ]
  },
  {
   "cell_type": "code",
   "execution_count": 3,
   "metadata": {
    "ExecuteTime": {
     "end_time": "2024-03-29T14:31:33.829806900Z",
     "start_time": "2024-03-29T14:31:33.778261100Z"
    },
    "executionInfo": {
     "elapsed": 10,
     "status": "ok",
     "timestamp": 1711377609272,
     "user": {
      "displayName": "Đức Mạnh Hoàng",
      "userId": "09245490958917231357"
     },
     "user_tz": -420
    },
    "id": "arExQtI034zA"
   },
   "outputs": [],
   "source": [
    "import glob\n",
    "images_path = glob.glob('anh_binh_thuong/*.jpg')\n",
    "labels_path = glob.glob('labels/*.json')"
   ]
  },
  {
   "cell_type": "code",
   "execution_count": 4,
   "metadata": {
    "ExecuteTime": {
     "end_time": "2024-03-29T14:31:34.391779Z",
     "start_time": "2024-03-29T14:31:34.353283400Z"
    },
    "colab": {
     "base_uri": "https://localhost:8080/"
    },
    "executionInfo": {
     "elapsed": 582,
     "status": "ok",
     "timestamp": 1711377609846,
     "user": {
      "displayName": "Đức Mạnh Hoàng",
      "userId": "09245490958917231357"
     },
     "user_tz": -420
    },
    "id": "NsgU2rrGf8_C",
    "outputId": "f103dfe3-5c0d-48df-e5e6-e62c433705b3"
   },
   "outputs": [
    {
     "name": "stdout",
     "output_type": "stream",
     "text": [
      "0\n",
      "0\n"
     ]
    }
   ],
   "source": [
    "print(len(labels_path))\n",
    "print(len(images_path))"
   ]
  },
  {
   "cell_type": "markdown",
   "metadata": {
    "id": "glqtChAlO7G-"
   },
   "source": [
    "# DEFINE DATA\n"
   ]
  },
  {
   "cell_type": "code",
   "execution_count": 41,
   "metadata": {
    "ExecuteTime": {
     "end_time": "2024-03-29T14:42:06.737228500Z",
     "start_time": "2024-03-29T14:42:06.613710500Z"
    },
    "executionInfo": {
     "elapsed": 568,
     "status": "ok",
     "timestamp": 1711377808331,
     "user": {
      "displayName": "Đức Mạnh Hoàng",
      "userId": "09245490958917231357"
     },
     "user_tz": -420
    },
    "id": "ePS3y61YPn2C"
   },
   "outputs": [],
   "source": [
    "aug_images_path = glob.glob('aug/Images/*.jpg')\n",
    "aug_labels_path = glob.glob('aug/Labels/*.json')\n",
    "def load_image(x):\n",
    "    byte_img = tf.io.read_file(x)\n",
    "    img = tf.io.decode_jpeg(byte_img)\n",
    "    return img"
   ]
  },
  {
   "cell_type": "code",
   "execution_count": 43,
   "metadata": {
    "ExecuteTime": {
     "end_time": "2024-03-29T14:43:25.789451500Z",
     "start_time": "2024-03-29T14:42:31.647336800Z"
    },
    "executionInfo": {
     "elapsed": 41728,
     "status": "ok",
     "timestamp": 1711377850057,
     "user": {
      "displayName": "Đức Mạnh Hoàng",
      "userId": "09245490958917231357"
     },
     "user_tz": -420
    },
    "id": "paWVXHDnQQAw"
   },
   "outputs": [],
   "source": [
    "Images = []\n",
    "Labels = []\n",
    "for i in range(len(aug_images_path)):\n",
    "  image_name = aug_images_path[i].split('\\\\')[1].split('.jpg')[0]\n",
    "  for j in range(len(aug_labels_path)):\n",
    "    label_name = aug_labels_path[j].split('\\\\')[1].split('.json')[0]\n",
    "    if image_name == label_name:\n",
    "      Images.append(aug_images_path[i])\n",
    "      Labels.append(aug_labels_path[j])\n",
    "\n",
    "del image_name, label_name,i,j"
   ]
  },
  {
   "cell_type": "code",
   "execution_count": 47,
   "metadata": {
    "ExecuteTime": {
     "end_time": "2024-03-29T14:43:54.204901700Z",
     "start_time": "2024-03-29T14:43:54.172388600Z"
    },
    "executionInfo": {
     "elapsed": 13,
     "status": "ok",
     "timestamp": 1711377850057,
     "user": {
      "displayName": "Đức Mạnh Hoàng",
      "userId": "09245490958917231357"
     },
     "user_tz": -420
    },
    "id": "qlV3bOvsUTJd"
   },
   "outputs": [],
   "source": [
    "x_train, x_test, y_train, y_test = train_test_split(Images, Labels, test_size = 0.3)\n",
    "x_val, x_test, y_val, y_test = train_test_split(x_test, y_test, train_size = 0.2)"
   ]
  },
  {
   "cell_type": "code",
   "execution_count": 48,
   "metadata": {
    "ExecuteTime": {
     "end_time": "2024-03-29T14:43:59.341430500Z",
     "start_time": "2024-03-29T14:43:57.256417500Z"
    },
    "executionInfo": {
     "elapsed": 4120,
     "status": "ok",
     "timestamp": 1711377854165,
     "user": {
      "displayName": "Đức Mạnh Hoàng",
      "userId": "09245490958917231357"
     },
     "user_tz": -420
    },
    "id": "D9XVWbqYUlY-"
   },
   "outputs": [],
   "source": [
    "x_train = tf.data.experimental.from_list(x_train)\n",
    "x_test = tf.data.experimental.from_list(x_test)\n",
    "y_train = tf.data.experimental.from_list(y_train)\n",
    "y_test = tf.data.experimental.from_list(y_test)\n",
    "x_val = tf.data.experimental.from_list(x_val)\n",
    "y_val = tf.data.experimental.from_list(y_val)"
   ]
  },
  {
   "cell_type": "code",
   "execution_count": 49,
   "metadata": {
    "ExecuteTime": {
     "end_time": "2024-03-29T14:44:30.485549900Z",
     "start_time": "2024-03-29T14:44:30.391454800Z"
    },
    "executionInfo": {
     "elapsed": 21,
     "status": "ok",
     "timestamp": 1711377854165,
     "user": {
      "displayName": "Đức Mạnh Hoàng",
      "userId": "09245490958917231357"
     },
     "user_tz": -420
    },
    "id": "45rnEByJWP61"
   },
   "outputs": [
    {
     "name": "stdout",
     "output_type": "stream",
     "text": [
      "WARNING:tensorflow:From C:\\Users\\admin\\anaconda3\\envs\\TF\\lib\\site-packages\\tensorflow\\python\\autograph\\pyct\\static_analysis\\liveness.py:83: Analyzer.lamba_check (from tensorflow.python.autograph.pyct.static_analysis.liveness) is deprecated and will be removed after 2023-09-23.\n",
      "Instructions for updating:\n",
      "Lambda fuctions will be no more assumed to be used in the statement where they are used, or at least in the same block. https://github.com/tensorflow/tensorflow/issues/56089\n"
     ]
    }
   ],
   "source": [
    "train_images = x_train.map(load_image)\n",
    "train_images = train_images.map(lambda x: tf.image.resize(x, (120,120)))\n",
    "train_images = train_images.map(lambda x: x/255)"
   ]
  },
  {
   "cell_type": "code",
   "execution_count": 50,
   "metadata": {
    "ExecuteTime": {
     "end_time": "2024-03-29T14:44:33.683228100Z",
     "start_time": "2024-03-29T14:44:33.611229100Z"
    },
    "executionInfo": {
     "elapsed": 19,
     "status": "ok",
     "timestamp": 1711377854165,
     "user": {
      "displayName": "Đức Mạnh Hoàng",
      "userId": "09245490958917231357"
     },
     "user_tz": -420
    },
    "id": "ZINj2H81WdIn"
   },
   "outputs": [],
   "source": [
    "test_images = x_test.map(load_image)\n",
    "test_images = test_images.map(lambda x: tf.image.resize(x, (120,120)))\n",
    "test_images = test_images.map(lambda x: x/255)\n",
    "\n",
    "\n",
    "val_images = x_val.map(load_image)\n",
    "val_images = val_images.map(lambda x: tf.image.resize(x, (120,120)))\n",
    "val_images = val_images.map(lambda x: x/255)"
   ]
  },
  {
   "cell_type": "code",
   "execution_count": 51,
   "metadata": {
    "ExecuteTime": {
     "end_time": "2024-03-29T14:44:36.088308Z",
     "start_time": "2024-03-29T14:44:36.072301400Z"
    },
    "executionInfo": {
     "elapsed": 18,
     "status": "ok",
     "timestamp": 1711377854165,
     "user": {
      "displayName": "Đức Mạnh Hoàng",
      "userId": "09245490958917231357"
     },
     "user_tz": -420
    },
    "id": "JzYXFPirW9qE"
   },
   "outputs": [],
   "source": [
    "del x_train, x_test,x_val"
   ]
  },
  {
   "cell_type": "code",
   "execution_count": 52,
   "metadata": {
    "ExecuteTime": {
     "end_time": "2024-03-29T14:44:38.735718100Z",
     "start_time": "2024-03-29T14:44:37.762441Z"
    },
    "colab": {
     "base_uri": "https://localhost:8080/"
    },
    "executionInfo": {
     "elapsed": 2984,
     "status": "ok",
     "timestamp": 1711377857131,
     "user": {
      "displayName": "Đức Mạnh Hoàng",
      "userId": "09245490958917231357"
     },
     "user_tz": -420
    },
    "id": "V7yySs-mWrcC",
    "outputId": "44dac803-1f4a-4c62-a857-e91678080a99"
   },
   "outputs": [
    {
     "data": {
      "text/plain": [
       "array([[[0.54172796, 0.40447304, 0.3858456 ],\n",
       "        [0.54656863, 0.40980393, 0.38480392],\n",
       "        [0.5411765 , 0.40784314, 0.37254903],\n",
       "        ...,\n",
       "        [0.78302693, 0.700674  , 0.6889093 ],\n",
       "        [0.78792894, 0.705576  , 0.6963848 ],\n",
       "        [0.7916667 , 0.7019608 , 0.69558823]],\n",
       "\n",
       "       [[0.54901963, 0.4117647 , 0.3925245 ],\n",
       "        [0.5485294 , 0.41127452, 0.3877451 ],\n",
       "        [0.545527  , 0.41170344, 0.3778799 ],\n",
       "        ...,\n",
       "        [0.7852941 , 0.7014706 , 0.6901961 ],\n",
       "        [0.7838848 , 0.7015319 , 0.6966299 ],\n",
       "        [0.7882353 , 0.7058824 , 0.70159316]],\n",
       "\n",
       "       [[0.54901963, 0.4117647 , 0.3882353 ],\n",
       "        [0.54901963, 0.4117647 , 0.3882353 ],\n",
       "        [0.5495098 , 0.4122549 , 0.3887255 ],\n",
       "        ...,\n",
       "        [0.79264706, 0.6985294 , 0.6906863 ],\n",
       "        [0.7921569 , 0.69803923, 0.6901961 ],\n",
       "        [0.79607844, 0.7019608 , 0.69411767]],\n",
       "\n",
       "       ...,\n",
       "\n",
       "       [[0.6186274 , 0.4852941 , 0.5833333 ],\n",
       "        [0.61519605, 0.48186275, 0.57941175],\n",
       "        [0.6107843 , 0.47745097, 0.5715686 ],\n",
       "        ...,\n",
       "        [0.45968136, 0.3254902 , 0.38039216],\n",
       "        [0.45833334, 0.325     , 0.39117646],\n",
       "        [0.44932598, 0.31991422, 0.39148283]],\n",
       "\n",
       "       [[0.603125  , 0.46979168, 0.5721201 ],\n",
       "        [0.59656864, 0.4632353 , 0.56078434],\n",
       "        [0.59656864, 0.4632353 , 0.55735296],\n",
       "        ...,\n",
       "        [0.4778799 , 0.32898283, 0.3877451 ],\n",
       "        [0.46666667, 0.31470588, 0.38480392],\n",
       "        [0.45392156, 0.31029412, 0.38039216]],\n",
       "\n",
       "       [[0.5833333 , 0.452451  , 0.5572304 ],\n",
       "        [0.5857843 , 0.45735294, 0.5529412 ],\n",
       "        [0.58547795, 0.45704657, 0.5511642 ],\n",
       "        ...,\n",
       "        [0.5093137 , 0.34313726, 0.40245098],\n",
       "        [0.49528188, 0.33020833, 0.40232843],\n",
       "        [0.48333332, 0.31770834, 0.3961397 ]]], dtype=float32)"
      ]
     },
     "execution_count": 52,
     "metadata": {},
     "output_type": "execute_result"
    }
   ],
   "source": [
    "train_images.as_numpy_iterator().next()"
   ]
  },
  {
   "cell_type": "code",
   "execution_count": 53,
   "metadata": {
    "ExecuteTime": {
     "end_time": "2024-03-29T14:44:40.894029800Z",
     "start_time": "2024-03-29T14:44:40.871018500Z"
    },
    "executionInfo": {
     "elapsed": 4,
     "status": "ok",
     "timestamp": 1711377857131,
     "user": {
      "displayName": "Đức Mạnh Hoàng",
      "userId": "09245490958917231357"
     },
     "user_tz": -420
    },
    "id": "bpneeFMOXGKf"
   },
   "outputs": [],
   "source": [
    "def load_labels(label_path):\n",
    "    with open(label_path.numpy(), 'r', encoding = \"utf-8\") as f:\n",
    "        label = json.load(f)\n",
    "\n",
    "    return [label['class']], label['bbox']"
   ]
  },
  {
   "cell_type": "code",
   "execution_count": 54,
   "metadata": {
    "ExecuteTime": {
     "end_time": "2024-03-29T14:44:42.457694500Z",
     "start_time": "2024-03-29T14:44:42.385184200Z"
    },
    "executionInfo": {
     "elapsed": 3,
     "status": "ok",
     "timestamp": 1711377857131,
     "user": {
      "displayName": "Đức Mạnh Hoàng",
      "userId": "09245490958917231357"
     },
     "user_tz": -420
    },
    "id": "mK2BLn9_XHqw"
   },
   "outputs": [],
   "source": [
    "train_labels = y_train.map(lambda x: tf.py_function(load_labels, [x], [tf.uint8, tf.float16]))\n",
    "test_labels = y_test.map(lambda x: tf.py_function(load_labels, [x], [tf.uint8, tf.float16]))\n",
    "val_labels = y_val.map(lambda x: tf.py_function(load_labels, [x], [tf.uint8, tf.float16]))"
   ]
  },
  {
   "cell_type": "code",
   "execution_count": 55,
   "metadata": {
    "ExecuteTime": {
     "end_time": "2024-03-29T14:44:43.518375400Z",
     "start_time": "2024-03-29T14:44:43.429866300Z"
    },
    "executionInfo": {
     "elapsed": 3,
     "status": "ok",
     "timestamp": 1711377857131,
     "user": {
      "displayName": "Đức Mạnh Hoàng",
      "userId": "09245490958917231357"
     },
     "user_tz": -420
    },
    "id": "iBYB8ED7Xj1Q"
   },
   "outputs": [],
   "source": [
    "train = tf.data.Dataset.zip((train_images, train_labels))\n",
    "train = train.shuffle(5000)\n",
    "train = train.batch(8)\n",
    "train = train.prefetch(4)\n",
    "test = tf.data.Dataset.zip((test_images, test_labels))\n",
    "test = test.shuffle(1300)\n",
    "test = test.batch(8)\n",
    "test = test.prefetch(4)\n",
    "val = tf.data.Dataset.zip((val_images, val_labels))\n",
    "val = val.shuffle(1000)\n",
    "val = val.batch(8)\n",
    "val = val.prefetch(4)"
   ]
  },
  {
   "cell_type": "code",
   "execution_count": 56,
   "metadata": {
    "ExecuteTime": {
     "end_time": "2024-03-29T14:44:49.216579200Z",
     "start_time": "2024-03-29T14:44:45.399147500Z"
    },
    "colab": {
     "base_uri": "https://localhost:8080/"
    },
    "executionInfo": {
     "elapsed": 23903,
     "status": "ok",
     "timestamp": 1711377881031,
     "user": {
      "displayName": "Đức Mạnh Hoàng",
      "userId": "09245490958917231357"
     },
     "user_tz": -420
    },
    "id": "69AVIHveXorg",
    "outputId": "a16ad965-cdb9-4ae4-9bca-3dceee471989"
   },
   "outputs": [
    {
     "data": {
      "text/plain": [
       "(array([[[[0.8093137 , 0.74264705, 0.63284314],\n",
       "          [0.8036152 , 0.73694855, 0.6193015 ],\n",
       "          [0.8052083 , 0.73854166, 0.62873775],\n",
       "          ...,\n",
       "          [0.8637255 , 0.75392157, 0.74215686],\n",
       "          [0.8511642 , 0.7413603 , 0.7261642 ],\n",
       "          [0.83431375, 0.71960783, 0.7088235 ]],\n",
       " \n",
       "         [[0.8096201 , 0.7429534 , 0.6331495 ],\n",
       "          [0.8117647 , 0.74509805, 0.627451  ],\n",
       "          [0.8117647 , 0.74509805, 0.63529414],\n",
       "          ...,\n",
       "          [0.87101716, 0.76121324, 0.74944854],\n",
       "          [0.8598039 , 0.75      , 0.7348039 ],\n",
       "          [0.84362745, 0.7289216 , 0.71813726]],\n",
       " \n",
       "         [[0.8156863 , 0.7490196 , 0.6392157 ],\n",
       "          [0.80876225, 0.7420956 , 0.62444854],\n",
       "          [0.8122549 , 0.74558824, 0.6357843 ],\n",
       "          ...,\n",
       "          [0.8779412 , 0.76029414, 0.76029414],\n",
       "          [0.8666667 , 0.75686276, 0.74509805],\n",
       "          [0.847549  , 0.7372549 , 0.725     ]],\n",
       " \n",
       "         ...,\n",
       " \n",
       "         [[0.7647059 , 0.74509805, 0.6666667 ],\n",
       "          [0.7647059 , 0.74509805, 0.6666667 ],\n",
       "          [0.7651961 , 0.74558824, 0.6671569 ],\n",
       "          ...,\n",
       "          [0.3602941 , 0.325     , 0.297549  ],\n",
       "          [0.315625  , 0.28817403, 0.24993873],\n",
       "          [0.27359068, 0.24552695, 0.21151961]],\n",
       " \n",
       "         [[0.7733456 , 0.74626225, 0.67156863],\n",
       "          [0.77156866, 0.7519608 , 0.6735294 ],\n",
       "          [0.76819855, 0.7485907 , 0.67015934],\n",
       "          ...,\n",
       "          [0.25055146, 0.2083946 , 0.184375  ],\n",
       "          [0.20049019, 0.16605392, 0.13731618],\n",
       "          [0.1793505 , 0.1420956 , 0.11525735]],\n",
       " \n",
       "         [[0.7755515 , 0.75055146, 0.6686887 ],\n",
       "          [0.7756128 , 0.7534314 , 0.67628676],\n",
       "          [0.77009803, 0.7504902 , 0.6720588 ],\n",
       "          ...,\n",
       "          [0.32058823, 0.28235295, 0.26127452],\n",
       "          [0.2425245 , 0.20257352, 0.17745098],\n",
       "          [0.23780638, 0.1985294 , 0.17077206]]],\n",
       " \n",
       " \n",
       "        [[[0.36862746, 0.16862746, 0.0627451 ],\n",
       "          [0.36862746, 0.16862746, 0.0627451 ],\n",
       "          [0.36617646, 0.16617647, 0.06029412],\n",
       "          ...,\n",
       "          [0.8217524 , 0.798223  , 0.74332106],\n",
       "          [0.8269608 , 0.8       , 0.7382353 ],\n",
       "          [0.81868875, 0.78817403, 0.7269608 ]],\n",
       " \n",
       "         [[0.36519608, 0.16127451, 0.06715687],\n",
       "          [0.3651348 , 0.16133578, 0.06715687],\n",
       "          [0.36813724, 0.16519608, 0.07058824],\n",
       "          ...,\n",
       "          [0.8235294 , 0.7921569 , 0.7411765 ],\n",
       "          [0.8235907 , 0.79607844, 0.7348039 ],\n",
       "          [0.82683825, 0.79987746, 0.7377451 ]],\n",
       " \n",
       "         [[0.36862746, 0.16764706, 0.07696079],\n",
       "          [0.36427698, 0.16819853, 0.07015932],\n",
       "          [0.36862746, 0.17254902, 0.07450981],\n",
       "          ...,\n",
       "          [0.8244485 , 0.793076  , 0.7420956 ],\n",
       "          [0.8235907 , 0.7956495 , 0.734375  ],\n",
       "          [0.82126224, 0.79773283, 0.7398897 ]],\n",
       " \n",
       "         ...,\n",
       " \n",
       "         [[0.49258578, 0.35588235, 0.26942402],\n",
       "          [0.49803922, 0.37254903, 0.27450982],\n",
       "          [0.5063726 , 0.36911765, 0.28284314],\n",
       "          ...,\n",
       "          [0.7882353 , 0.6901961 , 0.5294118 ],\n",
       "          [0.79558825, 0.68578434, 0.52892154],\n",
       "          [0.7948529 , 0.6737745 , 0.5144608 ]],\n",
       " \n",
       "         [[0.47843137, 0.3529412 , 0.26703432],\n",
       "          [0.4829044 , 0.3651348 , 0.27107844],\n",
       "          [0.49859068, 0.3716299 , 0.281924  ],\n",
       "          ...,\n",
       "          [0.79515934, 0.68535537, 0.5284926 ],\n",
       "          [0.7956495 , 0.68284315, 0.5259804 ],\n",
       "          [0.74405634, 0.6229779 , 0.4636642 ]],\n",
       " \n",
       "         [[0.48137254, 0.35943627, 0.27542892],\n",
       "          [0.47653186, 0.36145833, 0.26672795],\n",
       "          [0.48333332, 0.35784313, 0.2627451 ],\n",
       "          ...,\n",
       "          [0.79362744, 0.6862745 , 0.52205884],\n",
       "          [0.79221815, 0.67898285, 0.5221201 ],\n",
       "          [0.6797794 , 0.5493873 , 0.3970588 ]]],\n",
       " \n",
       " \n",
       "        [[[0.8465074 , 0.7523897 , 0.6112132 ],\n",
       "          [0.8493872 , 0.74742645, 0.61017156],\n",
       "          [0.8485294 , 0.7465686 , 0.6093137 ],\n",
       "          ...,\n",
       "          [0.6478554 , 0.5458946 , 0.4933211 ],\n",
       "          [0.7014706 , 0.5993872 , 0.5099878 ],\n",
       "          [0.78474265, 0.68125   , 0.5677083 ]],\n",
       " \n",
       "         [[0.84724265, 0.74785537, 0.6093137 ],\n",
       "          [0.84748775, 0.7525123 , 0.6117647 ],\n",
       "          [0.84748775, 0.7533701 , 0.61219364],\n",
       "          ...,\n",
       "          [0.5554534 , 0.4623162 , 0.4216299 ],\n",
       "          [0.59313726, 0.49264705, 0.42647058],\n",
       "          [0.65686274, 0.5556985 , 0.46109068]],\n",
       " \n",
       "         [[0.84705883, 0.74509805, 0.60784316],\n",
       "          [0.847549  , 0.7534314 , 0.6122549 ],\n",
       "          [0.85490197, 0.7607843 , 0.61960787],\n",
       "          ...,\n",
       "          [0.44454658, 0.37990198, 0.32199755],\n",
       "          [0.49650735, 0.4209559 , 0.36133578],\n",
       "          [0.55992645, 0.47432598, 0.3867647 ]],\n",
       " \n",
       "         ...,\n",
       " \n",
       "         [[0.5740196 , 0.44460785, 0.37009802],\n",
       "          [0.5877451 , 0.45931372, 0.38431373],\n",
       "          [0.5783701 , 0.46280637, 0.39221814],\n",
       "          ...,\n",
       "          [0.56911767, 0.42794117, 0.36519608],\n",
       "          [0.57297796, 0.44356617, 0.3768995 ],\n",
       "          [0.5914828 , 0.46501225, 0.39197305]],\n",
       " \n",
       "         [[0.5814951 , 0.44460785, 0.37009802],\n",
       "          [0.58523285, 0.45882353, 0.37830883],\n",
       "          [0.5882353 , 0.46666667, 0.3882353 ],\n",
       "          ...,\n",
       "          [0.57254905, 0.44313726, 0.3764706 ],\n",
       "          [0.59503675, 0.465625  , 0.39895833],\n",
       "          [0.6233456 , 0.48216912, 0.40735295]],\n",
       " \n",
       "         [[0.5813113 , 0.44405636, 0.3689951 ],\n",
       "          [0.58835787, 0.4516544 , 0.37334558],\n",
       "          [0.5882353 , 0.46568626, 0.3877451 ],\n",
       "          ...,\n",
       "          [0.59246325, 0.46599266, 0.3978554 ],\n",
       "          [0.61599267, 0.48167893, 0.4071691 ],\n",
       "          [0.64957106, 0.5098652 , 0.4216299 ]]],\n",
       " \n",
       " \n",
       "        ...,\n",
       " \n",
       " \n",
       "        [[[0.35049018, 0.2995098 , 0.2367647 ],\n",
       "          [0.34509805, 0.2998162 , 0.23351716],\n",
       "          [0.34509805, 0.3019608 , 0.23137255],\n",
       "          ...,\n",
       "          [0.85490197, 0.7294118 , 0.5764706 ],\n",
       "          [0.85490197, 0.7294118 , 0.5764706 ],\n",
       "          [0.8533701 , 0.7278799 , 0.57003677]],\n",
       " \n",
       "         [[0.36011028, 0.30949754, 0.24479167],\n",
       "          [0.35245097, 0.3093137 , 0.23872548],\n",
       "          [0.34944853, 0.30631128, 0.23572303],\n",
       "          ...,\n",
       "          [0.85490197, 0.7294118 , 0.5764706 ],\n",
       "          [0.85447305, 0.72898287, 0.57604164],\n",
       "          [0.85723037, 0.7317402 , 0.57389706]],\n",
       " \n",
       "         [[0.34528187, 0.29822305, 0.23547794],\n",
       "          [0.34515932, 0.2981005 , 0.23535539],\n",
       "          [0.34166667, 0.29460785, 0.23186274],\n",
       "          ...,\n",
       "          [0.8544118 , 0.7289216 , 0.57598037],\n",
       "          [0.85398287, 0.7284926 , 0.57555145],\n",
       "          [0.8566789 , 0.7311887 , 0.57824755]],\n",
       " \n",
       "         ...,\n",
       " \n",
       "         [[0.5602941 , 0.39558825, 0.297549  ],\n",
       "          [0.56421566, 0.39950982, 0.30147058],\n",
       "          [0.56121325, 0.4043505 , 0.3023897 ],\n",
       "          ...,\n",
       "          [0.8426471 , 0.7367647 , 0.6191176 ],\n",
       "          [0.8352941 , 0.7294118 , 0.6117647 ],\n",
       "          [0.84166664, 0.7357843 , 0.61813724]],\n",
       " \n",
       "         [[0.56421566, 0.39264706, 0.29460785],\n",
       "          [0.56286764, 0.39215687, 0.29411766],\n",
       "          [0.55735296, 0.39264706, 0.29460785],\n",
       "          ...,\n",
       "          [0.8392157 , 0.74019605, 0.61960787],\n",
       "          [0.83229166, 0.7332721 , 0.615625  ],\n",
       "          [0.84166664, 0.73835784, 0.62285537]],\n",
       " \n",
       "         [[0.5568628 , 0.38186276, 0.2887255 ],\n",
       "          [0.55196077, 0.38431373, 0.2887255 ],\n",
       "          [0.54656863, 0.3867647 , 0.2887255 ],\n",
       "          ...,\n",
       "          [0.8426471 , 0.74460787, 0.6245098 ],\n",
       "          [0.83615196, 0.73382354, 0.6158701 ],\n",
       "          [0.8411152 , 0.7363358 , 0.6220588 ]]],\n",
       " \n",
       " \n",
       "        [[[0.5122549 , 0.40637255, 0.33970588],\n",
       "          [0.50802696, 0.4021446 , 0.33547795],\n",
       "          [0.50373775, 0.3978554 , 0.33118874],\n",
       "          ...,\n",
       "          [0.07450981, 0.07058824, 0.09019608],\n",
       "          [0.06813726, 0.06421569, 0.08382353],\n",
       "          [0.06029412, 0.06127451, 0.07843138]],\n",
       " \n",
       "         [[0.5058824 , 0.4       , 0.33333334],\n",
       "          [0.502451  , 0.39656863, 0.32990196],\n",
       "          [0.5028799 , 0.39699754, 0.33033088],\n",
       "          ...,\n",
       "          [0.07450981, 0.07058824, 0.09019608],\n",
       "          [0.06758578, 0.06366421, 0.08327206],\n",
       "          [0.06060049, 0.06158088, 0.07873774]],\n",
       " \n",
       "         [[0.5058824 , 0.4       , 0.33333334],\n",
       "          [0.50980395, 0.40392157, 0.3372549 ],\n",
       "          [0.50980395, 0.40392157, 0.3372549 ],\n",
       "          ...,\n",
       "          [0.06715687, 0.0632353 , 0.08284314],\n",
       "          [0.07101715, 0.06709559, 0.08670343],\n",
       "          [0.06207108, 0.06305147, 0.08020833]],\n",
       " \n",
       "         ...,\n",
       " \n",
       "         [[0.6566789 , 0.51550245, 0.4213848 ],\n",
       "          [0.65882355, 0.5176471 , 0.42352942],\n",
       "          [0.65974265, 0.5185662 , 0.42444852],\n",
       "          ...,\n",
       "          [0.72107846, 0.5328431 , 0.39166668],\n",
       "          [0.7206495 , 0.5255515 , 0.38094363],\n",
       "          [0.7291054 , 0.5251838 , 0.37518382]],\n",
       " \n",
       "         [[0.6671569 , 0.51911765, 0.42843136],\n",
       "          [0.6735294 , 0.5254902 , 0.43480393],\n",
       "          [0.67009807, 0.52205884, 0.43137255],\n",
       "          ...,\n",
       "          [0.7102941 , 0.52892154, 0.3877451 ],\n",
       "          [0.7171569 , 0.52205884, 0.37745097],\n",
       "          [0.728125  , 0.5242034 , 0.37849265]],\n",
       " \n",
       "         [[0.67696077, 0.52794117, 0.44080883],\n",
       "          [0.68088233, 0.5321691 , 0.44105393],\n",
       "          [0.67726713, 0.53069854, 0.43314952],\n",
       "          ...,\n",
       "          [0.70441175, 0.51911765, 0.3779412 ],\n",
       "          [0.7110907 , 0.5153799 , 0.37536764],\n",
       "          [0.7260417 , 0.5196691 , 0.38192403]]],\n",
       " \n",
       " \n",
       "        [[[0.827451  , 0.78431374, 0.7137255 ],\n",
       "          [0.8193015 , 0.78792894, 0.71341914],\n",
       "          [0.8271446 , 0.7840074 , 0.71341914],\n",
       "          ...,\n",
       "          [0.84969366, 0.70851713, 0.6143995 ],\n",
       "          [0.85226715, 0.70980394, 0.6084559 ],\n",
       "          [0.85490197, 0.7122549 , 0.6102941 ]],\n",
       " \n",
       "         [[0.82726717, 0.7841299 , 0.7135417 ],\n",
       "          [0.8235294 , 0.7921569 , 0.7176471 ],\n",
       "          [0.8308824 , 0.7877451 , 0.7171569 ],\n",
       "          ...,\n",
       "          [0.8410539 , 0.69938725, 0.5974265 ],\n",
       "          [0.8543505 , 0.7092525 , 0.6068627 ],\n",
       "          [0.85343134, 0.7083333 , 0.6061887 ]],\n",
       " \n",
       "         [[0.827451  , 0.78431374, 0.7137255 ],\n",
       "          [0.82052696, 0.7891544 , 0.7146446 ],\n",
       "          [0.82395834, 0.7808211 , 0.71023285],\n",
       "          ...,\n",
       "          [0.8509804 , 0.7058824 , 0.6039216 ],\n",
       "          [0.84705883, 0.7019608 , 0.59607846],\n",
       "          [0.85128677, 0.70618874, 0.60275733]],\n",
       " \n",
       "         ...,\n",
       " \n",
       "         [[0.80018383, 0.77273285, 0.70998776],\n",
       "          [0.7995711 , 0.7721201 , 0.7083946 ],\n",
       "          [0.79901963, 0.77156866, 0.70098037],\n",
       "          ...,\n",
       "          [0.5303309 , 0.37346813, 0.27150735],\n",
       "          [0.5329044 , 0.36917892, 0.27064952],\n",
       "          [0.53333336, 0.36862746, 0.27058825]],\n",
       " \n",
       "         [[0.8039216 , 0.7764706 , 0.7137255 ],\n",
       "          [0.8039216 , 0.7764706 , 0.7137255 ],\n",
       "          [0.8       , 0.77254903, 0.70980394],\n",
       "          ...,\n",
       "          [0.5568628 , 0.41029412, 0.30833334],\n",
       "          [0.55588233, 0.3990196 , 0.3004902 ],\n",
       "          [0.5409926 , 0.37628677, 0.2795343 ]],\n",
       " \n",
       "         [[0.79748774, 0.77003676, 0.70729166],\n",
       "          [0.8020833 , 0.7721814 , 0.7167892 ],\n",
       "          [0.79816175, 0.77071077, 0.7079657 ],\n",
       "          ...,\n",
       "          [0.5792279 , 0.42677698, 0.32726717],\n",
       "          [0.58118874, 0.42487746, 0.3266544 ],\n",
       "          [0.57297796, 0.4101103 , 0.31115195]]]], dtype=float32),\n",
       " (array([[0],\n",
       "         [1],\n",
       "         [1],\n",
       "         [1],\n",
       "         [0],\n",
       "         [1],\n",
       "         [1],\n",
       "         [1]], dtype=uint8),\n",
       "  array([[0.     , 0.     , 0.     , 0.     ],\n",
       "         [0.     , 0.04443, 0.815  , 1.     ],\n",
       "         [0.     , 0.5015 , 1.     , 1.     ],\n",
       "         [0.1903 , 0.     , 1.     , 0.904  ],\n",
       "         [0.     , 0.     , 0.     , 0.     ],\n",
       "         [0.     , 0.2012 , 0.3926 , 1.     ],\n",
       "         [0.8804 , 0.2834 , 1.     , 1.     ],\n",
       "         [0.4119 , 0.     , 1.     , 0.549  ]], dtype=float16)))"
      ]
     },
     "execution_count": 56,
     "metadata": {},
     "output_type": "execute_result"
    }
   ],
   "source": [
    "train.as_numpy_iterator().next()"
   ]
  },
  {
   "cell_type": "code",
   "execution_count": 58,
   "metadata": {
    "ExecuteTime": {
     "end_time": "2024-03-29T14:45:08.121393200Z",
     "start_time": "2024-03-29T14:45:08.111270400Z"
    },
    "executionInfo": {
     "elapsed": 20,
     "status": "ok",
     "timestamp": 1711377905955,
     "user": {
      "displayName": "Đức Mạnh Hoàng",
      "userId": "09245490958917231357"
     },
     "user_tz": -420
    },
    "id": "33FrFLLhYLJE"
   },
   "outputs": [],
   "source": [
    "from tensorflow.keras.models import Model\n",
    "from tensorflow.keras.layers import Input, Conv2D, Dense, GlobalMaxPooling2D\n",
    "from tensorflow.keras.applications import VGG16"
   ]
  },
  {
   "cell_type": "code",
   "execution_count": 59,
   "metadata": {
    "ExecuteTime": {
     "end_time": "2024-03-29T14:45:09.726604800Z",
     "start_time": "2024-03-29T14:45:09.275206300Z"
    },
    "colab": {
     "base_uri": "https://localhost:8080/"
    },
    "executionInfo": {
     "elapsed": 1899,
     "status": "ok",
     "timestamp": 1711377907835,
     "user": {
      "displayName": "Đức Mạnh Hoàng",
      "userId": "09245490958917231357"
     },
     "user_tz": -420
    },
    "id": "QgUl4IjeYN9G",
    "outputId": "1f3b079c-7ee8-48d9-b421-8225c3247e25"
   },
   "outputs": [
    {
     "name": "stdout",
     "output_type": "stream",
     "text": [
      "Model: \"vgg16\"\n",
      "_________________________________________________________________\n",
      " Layer (type)                Output Shape              Param #   \n",
      "=================================================================\n",
      " input_1 (InputLayer)        [(None, None, None, 3)]   0         \n",
      "                                                                 \n",
      " block1_conv1 (Conv2D)       (None, None, None, 64)    1792      \n",
      "                                                                 \n",
      " block1_conv2 (Conv2D)       (None, None, None, 64)    36928     \n",
      "                                                                 \n",
      " block1_pool (MaxPooling2D)  (None, None, None, 64)    0         \n",
      "                                                                 \n",
      " block2_conv1 (Conv2D)       (None, None, None, 128)   73856     \n",
      "                                                                 \n",
      " block2_conv2 (Conv2D)       (None, None, None, 128)   147584    \n",
      "                                                                 \n",
      " block2_pool (MaxPooling2D)  (None, None, None, 128)   0         \n",
      "                                                                 \n",
      " block3_conv1 (Conv2D)       (None, None, None, 256)   295168    \n",
      "                                                                 \n",
      " block3_conv2 (Conv2D)       (None, None, None, 256)   590080    \n",
      "                                                                 \n",
      " block3_conv3 (Conv2D)       (None, None, None, 256)   590080    \n",
      "                                                                 \n",
      " block3_pool (MaxPooling2D)  (None, None, None, 256)   0         \n",
      "                                                                 \n",
      " block4_conv1 (Conv2D)       (None, None, None, 512)   1180160   \n",
      "                                                                 \n",
      " block4_conv2 (Conv2D)       (None, None, None, 512)   2359808   \n",
      "                                                                 \n",
      " block4_conv3 (Conv2D)       (None, None, None, 512)   2359808   \n",
      "                                                                 \n",
      " block4_pool (MaxPooling2D)  (None, None, None, 512)   0         \n",
      "                                                                 \n",
      " block5_conv1 (Conv2D)       (None, None, None, 512)   2359808   \n",
      "                                                                 \n",
      " block5_conv2 (Conv2D)       (None, None, None, 512)   2359808   \n",
      "                                                                 \n",
      " block5_conv3 (Conv2D)       (None, None, None, 512)   2359808   \n",
      "                                                                 \n",
      " block5_pool (MaxPooling2D)  (None, None, None, 512)   0         \n",
      "                                                                 \n",
      "=================================================================\n",
      "Total params: 14,714,688\n",
      "Trainable params: 14,714,688\n",
      "Non-trainable params: 0\n",
      "_________________________________________________________________\n"
     ]
    }
   ],
   "source": [
    "vgg = VGG16(include_top=False)\n",
    "vgg.summary()"
   ]
  },
  {
   "cell_type": "code",
   "execution_count": 60,
   "metadata": {
    "ExecuteTime": {
     "end_time": "2024-03-29T14:45:10.939364300Z",
     "start_time": "2024-03-29T14:45:10.927366Z"
    },
    "executionInfo": {
     "elapsed": 4,
     "status": "ok",
     "timestamp": 1711377907835,
     "user": {
      "displayName": "Đức Mạnh Hoàng",
      "userId": "09245490958917231357"
     },
     "user_tz": -420
    },
    "id": "KXZOY-P8YRtt"
   },
   "outputs": [],
   "source": [
    "def build_model():\n",
    "    input_layer = Input(shape=(120,120,3))\n",
    "\n",
    "    vgg = VGG16(include_top=False)(input_layer)\n",
    "\n",
    "    # Classification Model\n",
    "    f1 = GlobalMaxPooling2D()(vgg)\n",
    "    class1 = Dense(2048, activation='relu')(f1)\n",
    "    class2 = Dense(1, activation='sigmoid')(class1)\n",
    "\n",
    "    # Bounding box model\n",
    "    f2 = GlobalMaxPooling2D()(vgg)\n",
    "    regress1 = Dense(2048, activation='relu')(f2)\n",
    "    regress2 = Dense(4, activation='sigmoid')(regress1)\n",
    "\n",
    "    facetracker = Model(inputs=input_layer, outputs=[class2, regress2])\n",
    "    return facetracker"
   ]
  },
  {
   "cell_type": "code",
   "execution_count": 61,
   "metadata": {
    "ExecuteTime": {
     "end_time": "2024-03-29T14:45:12.433044900Z",
     "start_time": "2024-03-29T14:45:12.014506600Z"
    },
    "colab": {
     "base_uri": "https://localhost:8080/"
    },
    "executionInfo": {
     "elapsed": 841,
     "status": "ok",
     "timestamp": 1711377908674,
     "user": {
      "displayName": "Đức Mạnh Hoàng",
      "userId": "09245490958917231357"
     },
     "user_tz": -420
    },
    "id": "nlw-WhaeYXi2",
    "outputId": "b3a51f7c-4c50-48bb-dada-272662d09889"
   },
   "outputs": [
    {
     "name": "stdout",
     "output_type": "stream",
     "text": [
      "Model: \"model\"\n",
      "__________________________________________________________________________________________________\n",
      " Layer (type)                   Output Shape         Param #     Connected to                     \n",
      "==================================================================================================\n",
      " input_2 (InputLayer)           [(None, 120, 120, 3  0           []                               \n",
      "                                )]                                                                \n",
      "                                                                                                  \n",
      " vgg16 (Functional)             (None, None, None,   14714688    ['input_2[0][0]']                \n",
      "                                512)                                                              \n",
      "                                                                                                  \n",
      " global_max_pooling2d (GlobalMa  (None, 512)         0           ['vgg16[0][0]']                  \n",
      " xPooling2D)                                                                                      \n",
      "                                                                                                  \n",
      " global_max_pooling2d_1 (Global  (None, 512)         0           ['vgg16[0][0]']                  \n",
      " MaxPooling2D)                                                                                    \n",
      "                                                                                                  \n",
      " dense (Dense)                  (None, 2048)         1050624     ['global_max_pooling2d[0][0]']   \n",
      "                                                                                                  \n",
      " dense_2 (Dense)                (None, 2048)         1050624     ['global_max_pooling2d_1[0][0]'] \n",
      "                                                                                                  \n",
      " dense_1 (Dense)                (None, 1)            2049        ['dense[0][0]']                  \n",
      "                                                                                                  \n",
      " dense_3 (Dense)                (None, 4)            8196        ['dense_2[0][0]']                \n",
      "                                                                                                  \n",
      "==================================================================================================\n",
      "Total params: 16,826,181\n",
      "Trainable params: 16,826,181\n",
      "Non-trainable params: 0\n",
      "__________________________________________________________________________________________________\n"
     ]
    }
   ],
   "source": [
    "facetracker = build_model()\n",
    "facetracker.summary()"
   ]
  },
  {
   "cell_type": "code",
   "execution_count": 62,
   "metadata": {
    "ExecuteTime": {
     "end_time": "2024-03-29T14:45:13.795102800Z",
     "start_time": "2024-03-29T14:45:13.791104800Z"
    },
    "executionInfo": {
     "elapsed": 5,
     "status": "ok",
     "timestamp": 1711377908674,
     "user": {
      "displayName": "Đức Mạnh Hoàng",
      "userId": "09245490958917231357"
     },
     "user_tz": -420
    },
    "id": "mpATdwM0YY0L"
   },
   "outputs": [],
   "source": [
    "opt = tf.keras.optimizers.legacy.Adam(\n",
    "    learning_rate=0.0001\n",
    ")"
   ]
  },
  {
   "cell_type": "code",
   "execution_count": 63,
   "metadata": {
    "ExecuteTime": {
     "end_time": "2024-03-29T14:45:15.105229200Z",
     "start_time": "2024-03-29T14:45:15.013680600Z"
    },
    "executionInfo": {
     "elapsed": 4,
     "status": "ok",
     "timestamp": 1711377908674,
     "user": {
      "displayName": "Đức Mạnh Hoàng",
      "userId": "09245490958917231357"
     },
     "user_tz": -420
    },
    "id": "zGnMmNNBYiAx"
   },
   "outputs": [],
   "source": [
    "def localization_loss(y_true, yhat):\n",
    "    delta_coord = tf.reduce_sum(tf.square(y_true[:,:2] - yhat[:,:2]))\n",
    "\n",
    "    h_true = y_true[:,3] - y_true[:,1]\n",
    "    w_true = y_true[:,2] - y_true[:,0]\n",
    "\n",
    "    h_pred = yhat[:,3] - yhat[:,1]\n",
    "    w_pred = yhat[:,2] - yhat[:,0]\n",
    "\n",
    "    delta_size = tf.reduce_sum(tf.square(w_true - w_pred) + tf.square(h_true-h_pred))\n",
    "\n",
    "    return delta_coord + delta_size\n"
   ]
  },
  {
   "cell_type": "code",
   "execution_count": 64,
   "metadata": {
    "ExecuteTime": {
     "end_time": "2024-03-29T14:45:16.113439100Z",
     "start_time": "2024-03-29T14:45:16.102429100Z"
    },
    "executionInfo": {
     "elapsed": 5,
     "status": "ok",
     "timestamp": 1711377908675,
     "user": {
      "displayName": "Đức Mạnh Hoàng",
      "userId": "09245490958917231357"
     },
     "user_tz": -420
    },
    "id": "_ODOrgJdYjRO"
   },
   "outputs": [],
   "source": [
    "classloss = tf.keras.losses.BinaryCrossentropy()\n",
    "regressloss = localization_loss"
   ]
  },
  {
   "cell_type": "code",
   "execution_count": 66,
   "metadata": {
    "ExecuteTime": {
     "end_time": "2024-03-29T14:45:32.358667600Z",
     "start_time": "2024-03-29T14:45:32.350667800Z"
    },
    "executionInfo": {
     "elapsed": 4,
     "status": "ok",
     "timestamp": 1711377908675,
     "user": {
      "displayName": "Đức Mạnh Hoàng",
      "userId": "09245490958917231357"
     },
     "user_tz": -420
    },
    "id": "yd4M4nXoYo-3"
   },
   "outputs": [],
   "source": [
    "class FaceTracker(Model):\n",
    "    def __init__(self, eyetracker,  **kwargs):\n",
    "        super().__init__(**kwargs)\n",
    "        self.model = eyetracker\n",
    "\n",
    "    def compile(self, opt, classloss, localizationloss, **kwargs):\n",
    "        super().compile(**kwargs)\n",
    "        self.closs = classloss\n",
    "        self.lloss = localizationloss\n",
    "        self.opt = opt\n",
    "\n",
    "    def train_step(self, batch, **kwargs):\n",
    "\n",
    "        X, y = batch\n",
    "\n",
    "        with tf.GradientTape() as tape:\n",
    "            classes, coords = self.model(X, training=True)\n",
    "\n",
    "            batch_classloss = self.closs(y[0], classes)\n",
    "            batch_localizationloss = self.lloss(tf.cast(y[1], tf.float32), coords)\n",
    "\n",
    "            total_loss = batch_localizationloss+1*batch_classloss\n",
    "\n",
    "            grad = tape.gradient(total_loss, self.model.trainable_variables)\n",
    "\n",
    "        opt.apply_gradients(zip(grad, self.model.trainable_variables))\n",
    "\n",
    "        return {\"total_loss\":total_loss, \"class_loss\":batch_classloss, \"regress_loss\":batch_localizationloss}\n",
    "\n",
    "    def test_step(self, batch, **kwargs):\n",
    "        X, y = batch\n",
    "\n",
    "        classes, coords = self.model(X, training=False)\n",
    "\n",
    "        batch_classloss = self.closs(y[0], classes)\n",
    "        batch_localizationloss = self.lloss(tf.cast(y[1], tf.float32), coords)\n",
    "        total_loss = batch_localizationloss+1*batch_classloss\n",
    "\n",
    "        return {\"total_loss\":total_loss, \"class_loss\":batch_classloss, \"regress_loss\":batch_localizationloss}\n",
    "\n",
    "    def call(self, X, **kwargs):\n",
    "        return self.model(X, **kwargs)"
   ]
  },
  {
   "cell_type": "code",
   "execution_count": 67,
   "metadata": {
    "ExecuteTime": {
     "end_time": "2024-03-29T14:45:34.957372100Z",
     "start_time": "2024-03-29T14:45:34.939373100Z"
    },
    "executionInfo": {
     "elapsed": 4,
     "status": "ok",
     "timestamp": 1711377908675,
     "user": {
      "displayName": "Đức Mạnh Hoàng",
      "userId": "09245490958917231357"
     },
     "user_tz": -420
    },
    "id": "VMvaDHAJYqUT"
   },
   "outputs": [],
   "source": [
    "model = FaceTracker(facetracker)\n",
    "model.compile(opt, classloss, regressloss)"
   ]
  },
  {
   "cell_type": "code",
   "execution_count": 70,
   "metadata": {
    "ExecuteTime": {
     "end_time": "2024-03-29T14:47:02.156262Z",
     "start_time": "2024-03-29T14:47:02.146264800Z"
    },
    "collapsed": false
   },
   "outputs": [
    {
     "data": {
      "text/plain": [
       "[]"
      ]
     },
     "execution_count": 70,
     "metadata": {},
     "output_type": "execute_result"
    }
   ],
   "source": [
    "gpus = tf.config.experimental.list_physical_devices('GPU')\n",
    "for gpu in gpus: \n",
    "    tf.config.experimental.set_memory_growth(gpu, True)\n",
    "tf.config.list_physical_devices('GPU')"
   ]
  },
  {
   "cell_type": "code",
   "execution_count": 73,
   "metadata": {
    "ExecuteTime": {
     "end_time": "2024-03-29T15:00:16.502919500Z",
     "start_time": "2024-03-29T14:59:52.587773600Z"
    },
    "colab": {
     "background_save": true,
     "base_uri": "https://localhost:8080/"
    },
    "id": "ZubGb7mgYvdx"
   },
   "outputs": [
    {
     "name": "stdout",
     "output_type": "stream",
     "text": [
      "Epoch 1/30\n",
      "  27/1068 [..............................] - ETA: 12:41 - total_loss: 0.4029 - class_loss: 0.0707 - regress_loss: 0.3322"
     ]
    },
    {
     "ename": "KeyboardInterrupt",
     "evalue": "",
     "output_type": "error",
     "traceback": [
      "\u001b[1;31m---------------------------------------------------------------------------\u001b[0m",
      "\u001b[1;31mKeyboardInterrupt\u001b[0m                         Traceback (most recent call last)",
      "Cell \u001b[1;32mIn[73], line 1\u001b[0m\n\u001b[1;32m----> 1\u001b[0m hist \u001b[38;5;241m=\u001b[39m \u001b[43mmodel\u001b[49m\u001b[38;5;241;43m.\u001b[39;49m\u001b[43mfit\u001b[49m\u001b[43m(\u001b[49m\u001b[43mtrain\u001b[49m\u001b[43m,\u001b[49m\u001b[43m \u001b[49m\u001b[43mepochs\u001b[49m\u001b[38;5;241;43m=\u001b[39;49m\u001b[38;5;241;43m30\u001b[39;49m\u001b[43m,\u001b[49m\u001b[43m \u001b[49m\u001b[43mvalidation_data\u001b[49m\u001b[38;5;241;43m=\u001b[39;49m\u001b[43mval\u001b[49m\u001b[43m)\u001b[49m\n",
      "File \u001b[1;32m~\\anaconda3\\envs\\TF\\lib\\site-packages\\keras\\utils\\traceback_utils.py:65\u001b[0m, in \u001b[0;36mfilter_traceback.<locals>.error_handler\u001b[1;34m(*args, **kwargs)\u001b[0m\n\u001b[0;32m     63\u001b[0m filtered_tb \u001b[38;5;241m=\u001b[39m \u001b[38;5;28;01mNone\u001b[39;00m\n\u001b[0;32m     64\u001b[0m \u001b[38;5;28;01mtry\u001b[39;00m:\n\u001b[1;32m---> 65\u001b[0m     \u001b[38;5;28;01mreturn\u001b[39;00m \u001b[43mfn\u001b[49m\u001b[43m(\u001b[49m\u001b[38;5;241;43m*\u001b[39;49m\u001b[43margs\u001b[49m\u001b[43m,\u001b[49m\u001b[43m \u001b[49m\u001b[38;5;241;43m*\u001b[39;49m\u001b[38;5;241;43m*\u001b[39;49m\u001b[43mkwargs\u001b[49m\u001b[43m)\u001b[49m\n\u001b[0;32m     66\u001b[0m \u001b[38;5;28;01mexcept\u001b[39;00m \u001b[38;5;167;01mException\u001b[39;00m \u001b[38;5;28;01mas\u001b[39;00m e:\n\u001b[0;32m     67\u001b[0m     filtered_tb \u001b[38;5;241m=\u001b[39m _process_traceback_frames(e\u001b[38;5;241m.\u001b[39m__traceback__)\n",
      "File \u001b[1;32m~\\anaconda3\\envs\\TF\\lib\\site-packages\\keras\\engine\\training.py:1650\u001b[0m, in \u001b[0;36mModel.fit\u001b[1;34m(self, x, y, batch_size, epochs, verbose, callbacks, validation_split, validation_data, shuffle, class_weight, sample_weight, initial_epoch, steps_per_epoch, validation_steps, validation_batch_size, validation_freq, max_queue_size, workers, use_multiprocessing)\u001b[0m\n\u001b[0;32m   1642\u001b[0m \u001b[38;5;28;01mwith\u001b[39;00m tf\u001b[38;5;241m.\u001b[39mprofiler\u001b[38;5;241m.\u001b[39mexperimental\u001b[38;5;241m.\u001b[39mTrace(\n\u001b[0;32m   1643\u001b[0m     \u001b[38;5;124m\"\u001b[39m\u001b[38;5;124mtrain\u001b[39m\u001b[38;5;124m\"\u001b[39m,\n\u001b[0;32m   1644\u001b[0m     epoch_num\u001b[38;5;241m=\u001b[39mepoch,\n\u001b[1;32m   (...)\u001b[0m\n\u001b[0;32m   1647\u001b[0m     _r\u001b[38;5;241m=\u001b[39m\u001b[38;5;241m1\u001b[39m,\n\u001b[0;32m   1648\u001b[0m ):\n\u001b[0;32m   1649\u001b[0m     callbacks\u001b[38;5;241m.\u001b[39mon_train_batch_begin(step)\n\u001b[1;32m-> 1650\u001b[0m     tmp_logs \u001b[38;5;241m=\u001b[39m \u001b[38;5;28;43mself\u001b[39;49m\u001b[38;5;241;43m.\u001b[39;49m\u001b[43mtrain_function\u001b[49m\u001b[43m(\u001b[49m\u001b[43miterator\u001b[49m\u001b[43m)\u001b[49m\n\u001b[0;32m   1651\u001b[0m     \u001b[38;5;28;01mif\u001b[39;00m data_handler\u001b[38;5;241m.\u001b[39mshould_sync:\n\u001b[0;32m   1652\u001b[0m         context\u001b[38;5;241m.\u001b[39masync_wait()\n",
      "File \u001b[1;32m~\\anaconda3\\envs\\TF\\lib\\site-packages\\tensorflow\\python\\util\\traceback_utils.py:150\u001b[0m, in \u001b[0;36mfilter_traceback.<locals>.error_handler\u001b[1;34m(*args, **kwargs)\u001b[0m\n\u001b[0;32m    148\u001b[0m filtered_tb \u001b[38;5;241m=\u001b[39m \u001b[38;5;28;01mNone\u001b[39;00m\n\u001b[0;32m    149\u001b[0m \u001b[38;5;28;01mtry\u001b[39;00m:\n\u001b[1;32m--> 150\u001b[0m   \u001b[38;5;28;01mreturn\u001b[39;00m \u001b[43mfn\u001b[49m\u001b[43m(\u001b[49m\u001b[38;5;241;43m*\u001b[39;49m\u001b[43margs\u001b[49m\u001b[43m,\u001b[49m\u001b[43m \u001b[49m\u001b[38;5;241;43m*\u001b[39;49m\u001b[38;5;241;43m*\u001b[39;49m\u001b[43mkwargs\u001b[49m\u001b[43m)\u001b[49m\n\u001b[0;32m    151\u001b[0m \u001b[38;5;28;01mexcept\u001b[39;00m \u001b[38;5;167;01mException\u001b[39;00m \u001b[38;5;28;01mas\u001b[39;00m e:\n\u001b[0;32m    152\u001b[0m   filtered_tb \u001b[38;5;241m=\u001b[39m _process_traceback_frames(e\u001b[38;5;241m.\u001b[39m__traceback__)\n",
      "File \u001b[1;32m~\\anaconda3\\envs\\TF\\lib\\site-packages\\tensorflow\\python\\eager\\polymorphic_function\\polymorphic_function.py:880\u001b[0m, in \u001b[0;36mFunction.__call__\u001b[1;34m(self, *args, **kwds)\u001b[0m\n\u001b[0;32m    877\u001b[0m compiler \u001b[38;5;241m=\u001b[39m \u001b[38;5;124m\"\u001b[39m\u001b[38;5;124mxla\u001b[39m\u001b[38;5;124m\"\u001b[39m \u001b[38;5;28;01mif\u001b[39;00m \u001b[38;5;28mself\u001b[39m\u001b[38;5;241m.\u001b[39m_jit_compile \u001b[38;5;28;01melse\u001b[39;00m \u001b[38;5;124m\"\u001b[39m\u001b[38;5;124mnonXla\u001b[39m\u001b[38;5;124m\"\u001b[39m\n\u001b[0;32m    879\u001b[0m \u001b[38;5;28;01mwith\u001b[39;00m OptionalXlaContext(\u001b[38;5;28mself\u001b[39m\u001b[38;5;241m.\u001b[39m_jit_compile):\n\u001b[1;32m--> 880\u001b[0m   result \u001b[38;5;241m=\u001b[39m \u001b[38;5;28;43mself\u001b[39;49m\u001b[38;5;241;43m.\u001b[39;49m\u001b[43m_call\u001b[49m\u001b[43m(\u001b[49m\u001b[38;5;241;43m*\u001b[39;49m\u001b[43margs\u001b[49m\u001b[43m,\u001b[49m\u001b[43m \u001b[49m\u001b[38;5;241;43m*\u001b[39;49m\u001b[38;5;241;43m*\u001b[39;49m\u001b[43mkwds\u001b[49m\u001b[43m)\u001b[49m\n\u001b[0;32m    882\u001b[0m new_tracing_count \u001b[38;5;241m=\u001b[39m \u001b[38;5;28mself\u001b[39m\u001b[38;5;241m.\u001b[39mexperimental_get_tracing_count()\n\u001b[0;32m    883\u001b[0m without_tracing \u001b[38;5;241m=\u001b[39m (tracing_count \u001b[38;5;241m==\u001b[39m new_tracing_count)\n",
      "File \u001b[1;32m~\\anaconda3\\envs\\TF\\lib\\site-packages\\tensorflow\\python\\eager\\polymorphic_function\\polymorphic_function.py:912\u001b[0m, in \u001b[0;36mFunction._call\u001b[1;34m(self, *args, **kwds)\u001b[0m\n\u001b[0;32m    909\u001b[0m   \u001b[38;5;28mself\u001b[39m\u001b[38;5;241m.\u001b[39m_lock\u001b[38;5;241m.\u001b[39mrelease()\n\u001b[0;32m    910\u001b[0m   \u001b[38;5;66;03m# In this case we have created variables on the first call, so we run the\u001b[39;00m\n\u001b[0;32m    911\u001b[0m   \u001b[38;5;66;03m# defunned version which is guaranteed to never create variables.\u001b[39;00m\n\u001b[1;32m--> 912\u001b[0m   \u001b[38;5;28;01mreturn\u001b[39;00m \u001b[38;5;28;43mself\u001b[39;49m\u001b[38;5;241;43m.\u001b[39;49m\u001b[43m_no_variable_creation_fn\u001b[49m\u001b[43m(\u001b[49m\u001b[38;5;241;43m*\u001b[39;49m\u001b[43margs\u001b[49m\u001b[43m,\u001b[49m\u001b[43m \u001b[49m\u001b[38;5;241;43m*\u001b[39;49m\u001b[38;5;241;43m*\u001b[39;49m\u001b[43mkwds\u001b[49m\u001b[43m)\u001b[49m  \u001b[38;5;66;03m# pylint: disable=not-callable\u001b[39;00m\n\u001b[0;32m    913\u001b[0m \u001b[38;5;28;01melif\u001b[39;00m \u001b[38;5;28mself\u001b[39m\u001b[38;5;241m.\u001b[39m_variable_creation_fn \u001b[38;5;129;01mis\u001b[39;00m \u001b[38;5;129;01mnot\u001b[39;00m \u001b[38;5;28;01mNone\u001b[39;00m:\n\u001b[0;32m    914\u001b[0m   \u001b[38;5;66;03m# Release the lock early so that multiple threads can perform the call\u001b[39;00m\n\u001b[0;32m    915\u001b[0m   \u001b[38;5;66;03m# in parallel.\u001b[39;00m\n\u001b[0;32m    916\u001b[0m   \u001b[38;5;28mself\u001b[39m\u001b[38;5;241m.\u001b[39m_lock\u001b[38;5;241m.\u001b[39mrelease()\n",
      "File \u001b[1;32m~\\anaconda3\\envs\\TF\\lib\\site-packages\\tensorflow\\python\\eager\\polymorphic_function\\tracing_compiler.py:134\u001b[0m, in \u001b[0;36mTracingCompiler.__call__\u001b[1;34m(self, *args, **kwargs)\u001b[0m\n\u001b[0;32m    131\u001b[0m \u001b[38;5;28;01mwith\u001b[39;00m \u001b[38;5;28mself\u001b[39m\u001b[38;5;241m.\u001b[39m_lock:\n\u001b[0;32m    132\u001b[0m   (concrete_function,\n\u001b[0;32m    133\u001b[0m    filtered_flat_args) \u001b[38;5;241m=\u001b[39m \u001b[38;5;28mself\u001b[39m\u001b[38;5;241m.\u001b[39m_maybe_define_function(args, kwargs)\n\u001b[1;32m--> 134\u001b[0m \u001b[38;5;28;01mreturn\u001b[39;00m \u001b[43mconcrete_function\u001b[49m\u001b[38;5;241;43m.\u001b[39;49m\u001b[43m_call_flat\u001b[49m\u001b[43m(\u001b[49m\n\u001b[0;32m    135\u001b[0m \u001b[43m    \u001b[49m\u001b[43mfiltered_flat_args\u001b[49m\u001b[43m,\u001b[49m\u001b[43m \u001b[49m\u001b[43mcaptured_inputs\u001b[49m\u001b[38;5;241;43m=\u001b[39;49m\u001b[43mconcrete_function\u001b[49m\u001b[38;5;241;43m.\u001b[39;49m\u001b[43mcaptured_inputs\u001b[49m\u001b[43m)\u001b[49m\n",
      "File \u001b[1;32m~\\anaconda3\\envs\\TF\\lib\\site-packages\\tensorflow\\python\\eager\\polymorphic_function\\monomorphic_function.py:1745\u001b[0m, in \u001b[0;36mConcreteFunction._call_flat\u001b[1;34m(self, args, captured_inputs, cancellation_manager)\u001b[0m\n\u001b[0;32m   1741\u001b[0m possible_gradient_type \u001b[38;5;241m=\u001b[39m gradients_util\u001b[38;5;241m.\u001b[39mPossibleTapeGradientTypes(args)\n\u001b[0;32m   1742\u001b[0m \u001b[38;5;28;01mif\u001b[39;00m (possible_gradient_type \u001b[38;5;241m==\u001b[39m gradients_util\u001b[38;5;241m.\u001b[39mPOSSIBLE_GRADIENT_TYPES_NONE\n\u001b[0;32m   1743\u001b[0m     \u001b[38;5;129;01mand\u001b[39;00m executing_eagerly):\n\u001b[0;32m   1744\u001b[0m   \u001b[38;5;66;03m# No tape is watching; skip to running the function.\u001b[39;00m\n\u001b[1;32m-> 1745\u001b[0m   \u001b[38;5;28;01mreturn\u001b[39;00m \u001b[38;5;28mself\u001b[39m\u001b[38;5;241m.\u001b[39m_build_call_outputs(\u001b[38;5;28;43mself\u001b[39;49m\u001b[38;5;241;43m.\u001b[39;49m\u001b[43m_inference_function\u001b[49m\u001b[38;5;241;43m.\u001b[39;49m\u001b[43mcall\u001b[49m\u001b[43m(\u001b[49m\n\u001b[0;32m   1746\u001b[0m \u001b[43m      \u001b[49m\u001b[43mctx\u001b[49m\u001b[43m,\u001b[49m\u001b[43m \u001b[49m\u001b[43margs\u001b[49m\u001b[43m,\u001b[49m\u001b[43m \u001b[49m\u001b[43mcancellation_manager\u001b[49m\u001b[38;5;241;43m=\u001b[39;49m\u001b[43mcancellation_manager\u001b[49m\u001b[43m)\u001b[49m)\n\u001b[0;32m   1747\u001b[0m forward_backward \u001b[38;5;241m=\u001b[39m \u001b[38;5;28mself\u001b[39m\u001b[38;5;241m.\u001b[39m_select_forward_and_backward_functions(\n\u001b[0;32m   1748\u001b[0m     args,\n\u001b[0;32m   1749\u001b[0m     possible_gradient_type,\n\u001b[0;32m   1750\u001b[0m     executing_eagerly)\n\u001b[0;32m   1751\u001b[0m forward_function, args_with_tangents \u001b[38;5;241m=\u001b[39m forward_backward\u001b[38;5;241m.\u001b[39mforward()\n",
      "File \u001b[1;32m~\\anaconda3\\envs\\TF\\lib\\site-packages\\tensorflow\\python\\eager\\polymorphic_function\\monomorphic_function.py:378\u001b[0m, in \u001b[0;36m_EagerDefinedFunction.call\u001b[1;34m(self, ctx, args, cancellation_manager)\u001b[0m\n\u001b[0;32m    376\u001b[0m \u001b[38;5;28;01mwith\u001b[39;00m _InterpolateFunctionError(\u001b[38;5;28mself\u001b[39m):\n\u001b[0;32m    377\u001b[0m   \u001b[38;5;28;01mif\u001b[39;00m cancellation_manager \u001b[38;5;129;01mis\u001b[39;00m \u001b[38;5;28;01mNone\u001b[39;00m:\n\u001b[1;32m--> 378\u001b[0m     outputs \u001b[38;5;241m=\u001b[39m \u001b[43mexecute\u001b[49m\u001b[38;5;241;43m.\u001b[39;49m\u001b[43mexecute\u001b[49m\u001b[43m(\u001b[49m\n\u001b[0;32m    379\u001b[0m \u001b[43m        \u001b[49m\u001b[38;5;28;43mstr\u001b[39;49m\u001b[43m(\u001b[49m\u001b[38;5;28;43mself\u001b[39;49m\u001b[38;5;241;43m.\u001b[39;49m\u001b[43msignature\u001b[49m\u001b[38;5;241;43m.\u001b[39;49m\u001b[43mname\u001b[49m\u001b[43m)\u001b[49m\u001b[43m,\u001b[49m\n\u001b[0;32m    380\u001b[0m \u001b[43m        \u001b[49m\u001b[43mnum_outputs\u001b[49m\u001b[38;5;241;43m=\u001b[39;49m\u001b[38;5;28;43mself\u001b[39;49m\u001b[38;5;241;43m.\u001b[39;49m\u001b[43m_num_outputs\u001b[49m\u001b[43m,\u001b[49m\n\u001b[0;32m    381\u001b[0m \u001b[43m        \u001b[49m\u001b[43minputs\u001b[49m\u001b[38;5;241;43m=\u001b[39;49m\u001b[43margs\u001b[49m\u001b[43m,\u001b[49m\n\u001b[0;32m    382\u001b[0m \u001b[43m        \u001b[49m\u001b[43mattrs\u001b[49m\u001b[38;5;241;43m=\u001b[39;49m\u001b[43mattrs\u001b[49m\u001b[43m,\u001b[49m\n\u001b[0;32m    383\u001b[0m \u001b[43m        \u001b[49m\u001b[43mctx\u001b[49m\u001b[38;5;241;43m=\u001b[39;49m\u001b[43mctx\u001b[49m\u001b[43m)\u001b[49m\n\u001b[0;32m    384\u001b[0m   \u001b[38;5;28;01melse\u001b[39;00m:\n\u001b[0;32m    385\u001b[0m     outputs \u001b[38;5;241m=\u001b[39m execute\u001b[38;5;241m.\u001b[39mexecute_with_cancellation(\n\u001b[0;32m    386\u001b[0m         \u001b[38;5;28mstr\u001b[39m(\u001b[38;5;28mself\u001b[39m\u001b[38;5;241m.\u001b[39msignature\u001b[38;5;241m.\u001b[39mname),\n\u001b[0;32m    387\u001b[0m         num_outputs\u001b[38;5;241m=\u001b[39m\u001b[38;5;28mself\u001b[39m\u001b[38;5;241m.\u001b[39m_num_outputs,\n\u001b[1;32m   (...)\u001b[0m\n\u001b[0;32m    390\u001b[0m         ctx\u001b[38;5;241m=\u001b[39mctx,\n\u001b[0;32m    391\u001b[0m         cancellation_manager\u001b[38;5;241m=\u001b[39mcancellation_manager)\n",
      "File \u001b[1;32m~\\anaconda3\\envs\\TF\\lib\\site-packages\\tensorflow\\python\\eager\\execute.py:52\u001b[0m, in \u001b[0;36mquick_execute\u001b[1;34m(op_name, num_outputs, inputs, attrs, ctx, name)\u001b[0m\n\u001b[0;32m     50\u001b[0m \u001b[38;5;28;01mtry\u001b[39;00m:\n\u001b[0;32m     51\u001b[0m   ctx\u001b[38;5;241m.\u001b[39mensure_initialized()\n\u001b[1;32m---> 52\u001b[0m   tensors \u001b[38;5;241m=\u001b[39m \u001b[43mpywrap_tfe\u001b[49m\u001b[38;5;241;43m.\u001b[39;49m\u001b[43mTFE_Py_Execute\u001b[49m\u001b[43m(\u001b[49m\u001b[43mctx\u001b[49m\u001b[38;5;241;43m.\u001b[39;49m\u001b[43m_handle\u001b[49m\u001b[43m,\u001b[49m\u001b[43m \u001b[49m\u001b[43mdevice_name\u001b[49m\u001b[43m,\u001b[49m\u001b[43m \u001b[49m\u001b[43mop_name\u001b[49m\u001b[43m,\u001b[49m\n\u001b[0;32m     53\u001b[0m \u001b[43m                                      \u001b[49m\u001b[43minputs\u001b[49m\u001b[43m,\u001b[49m\u001b[43m \u001b[49m\u001b[43mattrs\u001b[49m\u001b[43m,\u001b[49m\u001b[43m \u001b[49m\u001b[43mnum_outputs\u001b[49m\u001b[43m)\u001b[49m\n\u001b[0;32m     54\u001b[0m \u001b[38;5;28;01mexcept\u001b[39;00m core\u001b[38;5;241m.\u001b[39m_NotOkStatusException \u001b[38;5;28;01mas\u001b[39;00m e:\n\u001b[0;32m     55\u001b[0m   \u001b[38;5;28;01mif\u001b[39;00m name \u001b[38;5;129;01mis\u001b[39;00m \u001b[38;5;129;01mnot\u001b[39;00m \u001b[38;5;28;01mNone\u001b[39;00m:\n",
      "\u001b[1;31mKeyboardInterrupt\u001b[0m: "
     ]
    }
   ],
   "source": [
    "hist = model.fit(train, epochs=30, validation_data=val)"
   ]
  },
  {
   "cell_type": "code",
   "execution_count": null,
   "metadata": {
    "collapsed": false
   },
   "outputs": [],
   "source": []
  }
 ],
 "metadata": {
  "accelerator": "GPU",
  "colab": {
   "authorship_tag": "ABX9TyNdvHHbajgIqUqKDACDqf2M",
   "collapsed_sections": [
    "P3REiY9lZmxw"
   ],
   "gpuType": "T4",
   "name": "",
   "version": ""
  },
  "kernelspec": {
   "display_name": "Python 3 (ipykernel)",
   "language": "python",
   "name": "python3"
  },
  "language_info": {
   "codemirror_mode": {
    "name": "ipython",
    "version": 3
   },
   "file_extension": ".py",
   "mimetype": "text/x-python",
   "name": "python",
   "nbconvert_exporter": "python",
   "pygments_lexer": "ipython3",
   "version": "3.10.13"
  }
 },
 "nbformat": 4,
 "nbformat_minor": 1
}
